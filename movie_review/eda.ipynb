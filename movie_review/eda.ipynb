{
 "cells": [
  {
   "cell_type": "code",
   "execution_count": null,
   "id": "1ed3db81",
   "metadata": {},
   "outputs": [],
   "source": [
    "import pandas as pd\n",
    "from collections import defaultdict"
   ]
  },
  {
   "cell_type": "code",
   "execution_count": null,
   "id": "8cb17fa0",
   "metadata": {},
   "outputs": [],
   "source": [
    "data = pd.read_csv('./train.csv')\n",
    "test = pd.read_csv('./test.csv')"
   ]
  },
  {
   "cell_type": "code",
   "execution_count": null,
   "id": "e19d8263",
   "metadata": {},
   "outputs": [],
   "source": [
    "def add_avg_count(data, test):\n",
    "    avg_rating_per_user = data.groupby('user')['rating'].agg(['mean', 'count'])\n",
    "    avg_rating_per_user.columns = ['user_avg_rating', 'user_count']\n",
    "    avg_rating_per_movie = data.groupby('movie')['rating'].agg(['mean', 'count'])\n",
    "    avg_rating_per_movie.columns = ['movie_avg_rating', 'movie_count']\n",
    "\n",
    "    data = pd.merge(data, avg_rating_per_user, on='user', how='left')\n",
    "    data = pd.merge(data, avg_rating_per_movie, on='movie', how='left')\n",
    "    data['user_avg_rating'] = data['user_avg_rating'].fillna(3)\n",
    "    data['user_count'] = data['user_count'].fillna(0).astype(int)\n",
    "    data['movie_avg_rating'] = data['movie_avg_rating'].fillna(3)\n",
    "    data['movie_count'] = data['movie_count'].fillna(0).astype(int)\n",
    "\n",
    "    test = pd.merge(test, avg_rating_per_user, on='user', how='left')\n",
    "    test = pd.merge(test, avg_rating_per_movie, on='movie', how='left')\n",
    "    test['user_avg_rating'] = test['user_avg_rating'].fillna(3)\n",
    "    test['user_count'] = test['user_count'].fillna(0).astype(int)\n",
    "    test['movie_avg_rating'] = test['movie_avg_rating'].fillna(3)\n",
    "    test['movie_count'] = test['movie_count'].fillna(0).astype(int)\n",
    "\n",
    "    user_avg_rate = avg_rating_per_user.to_dict('index')\n",
    "    movie_avg_rate = avg_rating_per_movie.to_dict('index')\n",
    "\n",
    "    movie_relative_rate = defaultdict(lambda: {'sum':0, 'count':0})\n",
    "    for row in data.itertuples():\n",
    "        movie_relative_rate[row[2]]['sum'] += row[4] - user_avg_rate[row[3]]['user_avg_rating']\n",
    "        movie_relative_rate[row[2]]['count'] += 1\n",
    "        \n",
    "    for key, val in movie_relative_rate.items():\n",
    "        movie_relative_rate[key]['movie_relative'] = val['sum']/val['count']\n",
    "\n",
    "    movie_relative_rate = pd.DataFrame.from_dict(movie_relative_rate, orient='index')\n",
    "    movie_relative_rate.index.name = 'movie'\n",
    "\n",
    "    user_relative_rate = defaultdict(lambda: {'sum':0, 'count':0})\n",
    "    for row in data.itertuples():\n",
    "        user_relative_rate[row[3]]['sum'] += row[4] - movie_avg_rate[row[3]]['movie_avg_rating']\n",
    "        user_relative_rate[row[3]]['count'] += 1\n",
    "        \n",
    "    for key, val in user_relative_rate.items():\n",
    "        user_relative_rate[key]['user_relative'] = val['sum']/val['count']\n",
    "\n",
    "    user_relative_rate = pd.DataFrame.from_dict(user_relative_rate, orient='index')\n",
    "    user_relative_rate.index.name = 'user'\n",
    "\n",
    "    data = pd.merge(data, user_relative_rate[['user_relative']], on='user', how='left')\n",
    "    data = pd.merge(data, movie_relative_rate[['movie_relative']], on='movie', how='left')\n",
    "    data['user_relative'] = data['user_relative'].fillna(0)\n",
    "    data['movie_relative'] = data['movie_relative'].fillna(0)\n",
    "\n",
    "    test = pd.merge(test, user_relative_rate[['user_relative']], on='user', how='left')\n",
    "    test = pd.merge(test, movie_relative_rate[['movie_relative']], on='movie', how='left')\n",
    "    test['user_relative'] = test['user_relative'].fillna(0)\n",
    "    test['movie_relative'] = test['movie_relative'].fillna(0)\n",
    "\n",
    "    return data, test, (user_avg_rate, user_relative_rate, movie_avg_rate, movie_relative_rate)"
   ]
  },
  {
   "cell_type": "code",
   "execution_count": null,
   "id": "a6768906",
   "metadata": {},
   "outputs": [],
   "source": [
    "data, test, tmp = add_avg_count(data, test)"
   ]
  },
  {
   "cell_type": "code",
   "execution_count": null,
   "id": "4076b92f",
   "metadata": {},
   "outputs": [],
   "source": [
    "from catboost import CatBoostRegressor, Pool\n",
    "from sklearn.model_selection import train_test_split\n",
    "from sklearn.metrics import mean_squared_error"
   ]
  },
  {
   "cell_type": "code",
   "execution_count": null,
   "id": "b91182fd",
   "metadata": {},
   "outputs": [],
   "source": [
    "test.loc[test['user']>6039]"
   ]
  },
  {
   "cell_type": "code",
   "execution_count": null,
   "id": "ed02c05f",
   "metadata": {},
   "outputs": [],
   "source": [
    "data"
   ]
  },
  {
   "cell_type": "code",
   "execution_count": null,
   "id": "999cb579",
   "metadata": {},
   "outputs": [],
   "source": [
    "pivot_ratings = data.pivot(index='user', columns='movie', values='rating')\n",
    "pivot_ratings"
   ]
  },
  {
   "cell_type": "code",
   "execution_count": null,
   "id": "d0cdb53b",
   "metadata": {},
   "outputs": [],
   "source": [
    "user_bias    = data.groupby('user')['user_relative'].first().rename('user_bias')\n",
    "user_avg     = data.groupby('user')['user_avg_rating'].first().rename('user_avg')\n",
    "\n",
    "movie_bias   = data.groupby('movie')['movie_relative'].first().rename('movie_bias')\n",
    "movie_avg    = data.groupby('movie')['movie_avg_rating'].first().rename('movie_avg')\n"
   ]
  },
  {
   "cell_type": "code",
   "execution_count": null,
   "id": "85beb508",
   "metadata": {},
   "outputs": [],
   "source": [
    "feature = ['user', 'movie', 'movie_avg_rating']\n",
    "X, y = data[feature], data['rating']\n"
   ]
  },
  {
   "cell_type": "code",
   "execution_count": null,
   "id": "ace0e54e",
   "metadata": {},
   "outputs": [],
   "source": [
    "X, y = data[['user', 'movie', 'user_avg_rating', 'user_count', 'movie_avg_rating', 'movie_count', 'user_relative', 'movie_relative']], data['rating']\n",
    "cat_features = ['user', 'movie', 'user_count', 'movie_count']"
   ]
  },
  {
   "cell_type": "code",
   "execution_count": null,
   "id": "bb85d248",
   "metadata": {},
   "outputs": [],
   "source": [
    "X, y = data[['user_avg_rating', 'user_count', 'movie_avg_rating', 'movie_count', 'user_relative', 'movie_relative']], data['rating']\n",
    "cat_features = []"
   ]
  },
  {
   "cell_type": "code",
   "execution_count": null,
   "id": "ef75d8ff",
   "metadata": {},
   "outputs": [],
   "source": [
    "X_train, X_test, y_train, y_test = train_test_split(X, y, test_size=0.2, random_state=42)\n",
    "\n",
    "model = CatBoostRegressor(\n",
    "    iterations=1000,\n",
    "    learning_rate=0.01,\n",
    "    depth=8,\n",
    "    loss_function='RMSE',\n",
    "    cat_features=cat_features,\n",
    "    verbose=100\n",
    ")\n",
    "\n",
    "model.fit(X_train, y_train)\n",
    "\n",
    "y_pred = model.predict(X_test)\n",
    "\n",
    "rmse = mean_squared_error(y_test, y_pred)\n",
    "print(f\"RMSE: {rmse:.4f}\")\n"
   ]
  },
  {
   "cell_type": "code",
   "execution_count": null,
   "id": "3edf3b12",
   "metadata": {},
   "outputs": [],
   "source": [
    "pred = model.predict(test[['user', 'movie', 'user_avg_rating', 'user_count', 'movie_avg_rating', 'movie_count', 'user_relative', 'movie_relative']])"
   ]
  },
  {
   "cell_type": "code",
   "execution_count": null,
   "id": "df3ce289",
   "metadata": {},
   "outputs": [],
   "source": [
    "model.get_feature_importance()"
   ]
  },
  {
   "cell_type": "code",
   "execution_count": null,
   "id": "1bc0e09a",
   "metadata": {},
   "outputs": [],
   "source": [
    "pred = pd.DataFrame({\n",
    "    'ID': test['ID'],\n",
    "    'rating': pred\n",
    "})"
   ]
  },
  {
   "cell_type": "code",
   "execution_count": null,
   "id": "dae003ea",
   "metadata": {},
   "outputs": [],
   "source": [
    "pred.to_csv('pred.csv', index=False)"
   ]
  },
  {
   "cell_type": "code",
   "execution_count": null,
   "id": "b809155a",
   "metadata": {},
   "outputs": [],
   "source": [
    "import torch\n",
    "import torch.nn as nn\n",
    "import torch.optim as optim\n",
    "from torch.utils.data import TensorDataset, DataLoader\n",
    "from sklearn.model_selection import train_test_split\n",
    "from sklearn.preprocessing import StandardScaler\n",
    "import numpy as np\n",
    "\n",
    "# 디바이스 설정\n",
    "device = torch.device(\"cuda\" if torch.cuda.is_available() else \"cpu\")\n",
    "scaler = StandardScaler()\n",
    "X = scaler.fit_transform(X)\n",
    "\n",
    "# 데이터 분할\n",
    "X_train, X_val, y_train, y_val = train_test_split(\n",
    "    X, y.values, test_size=0.2, random_state=42\n",
    ")\n",
    "\n",
    "# 텐서 변환\n",
    "X_train_tensor = torch.tensor(X_train, dtype=torch.float32)\n",
    "y_train_tensor = torch.tensor(y_train, dtype=torch.float32).unsqueeze(1)\n",
    "X_val_tensor = torch.tensor(X_val, dtype=torch.float32)\n",
    "y_val_tensor = torch.tensor(y_val, dtype=torch.float32).unsqueeze(1)\n",
    "\n",
    "# 데이터로더 생성\n",
    "train_dataset = TensorDataset(X_train_tensor, y_train_tensor)\n",
    "val_dataset = TensorDataset(X_val_tensor, y_val_tensor)\n",
    "train_loader = DataLoader(train_dataset, batch_size=1024, shuffle=True)\n",
    "val_loader = DataLoader(val_dataset, batch_size=1024)\n",
    "\n",
    "# MLP 모델 정의\n",
    "class MLP(nn.Module):\n",
    "    def __init__(self, input_dim, hidden_dim=64):\n",
    "        super(MLP, self).__init__()\n",
    "        self.model = nn.Sequential(\n",
    "            nn.Linear(input_dim, hidden_dim),\n",
    "            nn.ReLU(),\n",
    "            nn.Linear(hidden_dim, hidden_dim),\n",
    "            nn.ReLU(),\n",
    "            nn.Linear(hidden_dim, 1)\n",
    "        )\n",
    "\n",
    "    def forward(self, x):\n",
    "        return self.model(x)\n",
    "\n",
    "# 모델 초기화 및 디바이스로 이동\n",
    "model = MLP(input_dim=X.shape[1]).to(device)\n",
    "\n",
    "# 손실 함수 및 옵티마이저 정의\n",
    "criterion = nn.MSELoss()\n",
    "optimizer = optim.Adam(model.parameters(), lr=0.001)\n"
   ]
  },
  {
   "cell_type": "code",
   "execution_count": null,
   "id": "c849b505",
   "metadata": {},
   "outputs": [],
   "source": [
    "import copy\n",
    "\n",
    "best_val_loss = float('inf')\n",
    "patience = 10\n",
    "counter = 0\n",
    "best_model_wts = copy.deepcopy(model.state_dict())\n",
    "\n",
    "for epoch in range(100):\n",
    "    model.train()\n",
    "    for inputs, targets in train_loader:\n",
    "        inputs, targets = inputs.to(device), targets.to(device)\n",
    "        optimizer.zero_grad()\n",
    "        outputs = model(inputs)\n",
    "        loss = criterion(outputs, targets)\n",
    "        loss.backward()\n",
    "        optimizer.step()\n",
    "\n",
    "    # 검증 단계\n",
    "    model.eval()\n",
    "    val_loss = 0.0\n",
    "    with torch.no_grad():\n",
    "        for inputs, targets in val_loader:\n",
    "            inputs, targets = inputs.to(device), targets.to(device)\n",
    "            outputs = model(inputs)\n",
    "            loss = criterion(outputs, targets)\n",
    "            val_loss += loss.item() * inputs.size(0)\n",
    "    val_loss /= len(val_loader.dataset)\n",
    "\n",
    "    print(f\"Epoch {epoch+1}, Validation Loss: {val_loss:.4f}\")\n",
    "\n",
    "    # Early Stopping 체크\n",
    "    if val_loss < best_val_loss:\n",
    "        best_val_loss = val_loss\n",
    "        best_model_wts = copy.deepcopy(model.state_dict())\n",
    "        counter = 0\n",
    "    else:\n",
    "        counter += 1\n",
    "        if counter >= patience:\n",
    "            print(\"Early stopping triggered.\")\n",
    "            break\n",
    "\n",
    "# 최상의 모델 저장\n",
    "model.load_state_dict(best_model_wts)\n",
    "torch.save(model.state_dict(), 'best_mlp_model.pth')\n"
   ]
  },
  {
   "cell_type": "code",
   "execution_count": null,
   "id": "888c67a6",
   "metadata": {},
   "outputs": [],
   "source": [
    "data"
   ]
  },
  {
   "cell_type": "code",
   "execution_count": null,
   "id": "a7de5f96",
   "metadata": {},
   "outputs": [],
   "source": [
    "import torch\n",
    "from torch.utils.data import DataLoader, TensorDataset\n",
    "\n",
    "# NumPy 배열로 변환\n",
    "X_test_np = test[feature]\n",
    "\n",
    "X_test_np = scaler.transform(X_test_np)\n",
    "\n",
    "#X_test_np = test[['user', 'movie', 'user_avg_rating', 'user_count',\n",
    "#                  'movie_avg_rating', 'movie_count', 'user_relative', 'movie_relative']].values\n",
    "\n",
    "# 텐서로 변환\n",
    "X_test_tensor = torch.tensor(X_test_np, dtype=torch.float32)\n",
    "\n",
    "# TensorDataset 및 DataLoader 생성\n",
    "test_dataset = TensorDataset(X_test_tensor)\n",
    "test_loader = DataLoader(test_dataset, batch_size=1024, shuffle=False)\n",
    "\n",
    "# 모델 예측\n",
    "model.eval()\n",
    "predictions = []\n",
    "with torch.no_grad():\n",
    "    for batch in test_loader:\n",
    "        inputs = batch[0].to(device)\n",
    "        outputs = model(inputs)\n",
    "        predictions.append(outputs.cpu())\n",
    "predictions = torch.cat(predictions, dim=0)"
   ]
  },
  {
   "cell_type": "code",
   "execution_count": null,
   "id": "fcfa5430",
   "metadata": {},
   "outputs": [],
   "source": [
    "predictions_np = predictions.cpu().numpy()\n",
    "\n",
    "id_series = test['ID']\n",
    "\n",
    "pred_series = pd.Series(predictions_np.flatten(), name='rating')\n",
    "\n",
    "submission_df = pd.concat([id_series, pred_series], axis=1)\n",
    "\n",
    "submission_df.to_csv('submission_ID_movie_avg.csv', index=False)"
   ]
  },
  {
   "cell_type": "code",
   "execution_count": null,
   "id": "0315dbb7",
   "metadata": {},
   "outputs": [],
   "source": [
    "test"
   ]
  },
  {
   "cell_type": "code",
   "execution_count": null,
   "id": "5639d10c",
   "metadata": {},
   "outputs": [],
   "source": [
    "test['rating'] = (test['user_avg_rating'] + test['movie_avg_rating'])/2\n",
    "#test.loc[test['user_count']==0, 'rating'] = test.loc[test['user_count']==0, 'movie_avg_rating']"
   ]
  },
  {
   "cell_type": "code",
   "execution_count": null,
   "id": "6e2d9d72",
   "metadata": {},
   "outputs": [],
   "source": [
    "test[['ID', 'rating']].to_csv('test.csv', index=False)"
   ]
  }
 ],
 "metadata": {
  "kernelspec": {
   "display_name": "Python 3",
   "language": "python",
   "name": "python3"
  },
  "language_info": {
   "codemirror_mode": {
    "name": "ipython",
    "version": 3
   },
   "file_extension": ".py",
   "mimetype": "text/x-python",
   "name": "python",
   "nbconvert_exporter": "python",
   "pygments_lexer": "ipython3",
   "version": "3.12.2"
  }
 },
 "nbformat": 4,
 "nbformat_minor": 5
}
