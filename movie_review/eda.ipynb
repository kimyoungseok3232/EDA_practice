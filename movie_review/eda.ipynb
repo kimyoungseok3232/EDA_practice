{
 "cells": [
  {
   "cell_type": "code",
   "execution_count": null,
   "id": "1ed3db81",
   "metadata": {},
   "outputs": [],
   "source": [
    "import pandas as pd"
   ]
  },
  {
   "cell_type": "code",
   "execution_count": null,
   "id": "8cb17fa0",
   "metadata": {},
   "outputs": [],
   "source": [
    "data = pd.read_csv('./train.csv')"
   ]
  },
  {
   "cell_type": "code",
   "execution_count": null,
   "id": "bfc4b769",
   "metadata": {},
   "outputs": [],
   "source": [
    "avg_rating_per_user = data.groupby('user')['rating'].mean().reset_index()\n",
    "avg_rating_per_user.columns = ['user', 'avg_rating']\n",
    "avg_rating_per_user"
   ]
  },
  {
   "cell_type": "code",
   "execution_count": null,
   "id": "082738ba",
   "metadata": {},
   "outputs": [],
   "source": [
    "avg_rating_per_user = data.groupby('user')['rating'].agg(['mean', 'count'])\n",
    "avg_rating_per_user.columns = ['avg_rating', 'count']\n",
    "avg_rating_per_user"
   ]
  },
  {
   "cell_type": "code",
   "execution_count": null,
   "id": "91e6a7ee",
   "metadata": {},
   "outputs": [],
   "source": [
    "avg_rating_per_movie = data.groupby('movie')['rating'].agg(['mean', 'count'])\n",
    "avg_rating_per_movie.columns = ['avg_rating', 'count']\n",
    "avg_rating_per_movie"
   ]
  },
  {
   "cell_type": "code",
   "execution_count": null,
   "id": "3ed8155a",
   "metadata": {},
   "outputs": [],
   "source": [
    "user_avg_rate = avg_rating_per_user.to_dict('index')\n",
    "user_avg_rate[3952]"
   ]
  },
  {
   "cell_type": "code",
   "execution_count": null,
   "id": "25cac9f8",
   "metadata": {},
   "outputs": [],
   "source": [
    "from collections import defaultdict\n",
    "movie_relative_rate = defaultdict(lambda: {'sum':0, 'count':0})\n",
    "for row in data.itertuples():\n",
    "    movie_relative_rate[row[2]]['sum'] += row[4] - user_avg_rate[row[3]]['avg_rating']\n",
    "    movie_relative_rate[row[2]]['count'] += 1\n",
    "    \n",
    "for key, val in movie_relative_rate.items():\n",
    "    movie_relative_rate[key]['avg'] = val['sum']/val['count']\n",
    "\n",
    "movie_relative_rate = pd.DataFrame.from_dict(movie_relative_rate, orient='index')\n",
    "movie_relative_rate"
   ]
  }
 ],
 "metadata": {
  "kernelspec": {
   "display_name": "Python 3",
   "language": "python",
   "name": "python3"
  },
  "language_info": {
   "codemirror_mode": {
    "name": "ipython",
    "version": 3
   },
   "file_extension": ".py",
   "mimetype": "text/x-python",
   "name": "python",
   "nbconvert_exporter": "python",
   "pygments_lexer": "ipython3",
   "version": "3.12.2"
  }
 },
 "nbformat": 4,
 "nbformat_minor": 5
}
